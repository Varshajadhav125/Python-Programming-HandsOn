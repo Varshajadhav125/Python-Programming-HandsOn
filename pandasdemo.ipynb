{
 "cells": [
  {
   "cell_type": "code",
   "execution_count": null,
   "id": "6b829aeb-8da8-4fd9-b3a1-27f07df2e993",
   "metadata": {},
   "outputs": [],
   "source": [
    "import pandas as pd\n",
    "import numpy as np"
   ]
  },
  {
   "cell_type": "code",
   "execution_count": 13,
   "id": "8808b431-44fd-4965-8211-d119c223df7d",
   "metadata": {},
   "outputs": [],
   "source": [
    "dict = {\n",
    "    \"name\":['varsha','shivam','divya','sanket'],\n",
    "    \"marks\":[78,23,45,16],\n",
    "    \"city\":['satara','pune','satara','mumbai']\n",
    "}"
   ]
  },
  {
   "cell_type": "code",
   "execution_count": 14,
   "id": "12cdf309-f8ac-45a3-80c1-577013856493",
   "metadata": {},
   "outputs": [],
   "source": [
    "df = pd.DataFrame(dict)"
   ]
  },
  {
   "cell_type": "code",
   "execution_count": 15,
   "id": "c35ef7a1-cfd7-4c91-b4f2-f9ec35396d54",
   "metadata": {},
   "outputs": [
    {
     "data": {
      "text/html": [
       "<div>\n",
       "<style scoped>\n",
       "    .dataframe tbody tr th:only-of-type {\n",
       "        vertical-align: middle;\n",
       "    }\n",
       "\n",
       "    .dataframe tbody tr th {\n",
       "        vertical-align: top;\n",
       "    }\n",
       "\n",
       "    .dataframe thead th {\n",
       "        text-align: right;\n",
       "    }\n",
       "</style>\n",
       "<table border=\"1\" class=\"dataframe\">\n",
       "  <thead>\n",
       "    <tr style=\"text-align: right;\">\n",
       "      <th></th>\n",
       "      <th>name</th>\n",
       "      <th>marks</th>\n",
       "      <th>city</th>\n",
       "    </tr>\n",
       "  </thead>\n",
       "  <tbody>\n",
       "    <tr>\n",
       "      <th>0</th>\n",
       "      <td>varsha</td>\n",
       "      <td>78</td>\n",
       "      <td>satara</td>\n",
       "    </tr>\n",
       "    <tr>\n",
       "      <th>1</th>\n",
       "      <td>shivam</td>\n",
       "      <td>23</td>\n",
       "      <td>pune</td>\n",
       "    </tr>\n",
       "    <tr>\n",
       "      <th>2</th>\n",
       "      <td>divya</td>\n",
       "      <td>45</td>\n",
       "      <td>satara</td>\n",
       "    </tr>\n",
       "    <tr>\n",
       "      <th>3</th>\n",
       "      <td>sanket</td>\n",
       "      <td>16</td>\n",
       "      <td>mumbai</td>\n",
       "    </tr>\n",
       "  </tbody>\n",
       "</table>\n",
       "</div>"
      ],
      "text/plain": [
       "     name  marks    city\n",
       "0  varsha     78  satara\n",
       "1  shivam     23    pune\n",
       "2   divya     45  satara\n",
       "3  sanket     16  mumbai"
      ]
     },
     "execution_count": 15,
     "metadata": {},
     "output_type": "execute_result"
    }
   ],
   "source": [
    "df"
   ]
  },
  {
   "cell_type": "code",
   "execution_count": 16,
   "id": "683c9425-fec6-4087-b755-293a2eed8cbc",
   "metadata": {},
   "outputs": [],
   "source": [
    "df.to_csv(\"demo.csv\",index= False)"
   ]
  },
  {
   "cell_type": "code",
   "execution_count": 17,
   "id": "4c4643ac-e675-4184-bf8c-eaba88b9d7ac",
   "metadata": {},
   "outputs": [],
   "source": [
    "df.to_csv(\"demo2.csv\",index = False)"
   ]
  },
  {
   "cell_type": "code",
   "execution_count": 18,
   "id": "25e05a8d-e204-4213-bb62-87ce5ad31df0",
   "metadata": {},
   "outputs": [
    {
     "data": {
      "text/html": [
       "<div>\n",
       "<style scoped>\n",
       "    .dataframe tbody tr th:only-of-type {\n",
       "        vertical-align: middle;\n",
       "    }\n",
       "\n",
       "    .dataframe tbody tr th {\n",
       "        vertical-align: top;\n",
       "    }\n",
       "\n",
       "    .dataframe thead th {\n",
       "        text-align: right;\n",
       "    }\n",
       "</style>\n",
       "<table border=\"1\" class=\"dataframe\">\n",
       "  <thead>\n",
       "    <tr style=\"text-align: right;\">\n",
       "      <th></th>\n",
       "      <th>name</th>\n",
       "      <th>marks</th>\n",
       "      <th>city</th>\n",
       "    </tr>\n",
       "  </thead>\n",
       "  <tbody>\n",
       "    <tr>\n",
       "      <th>0</th>\n",
       "      <td>varsha</td>\n",
       "      <td>78</td>\n",
       "      <td>satara</td>\n",
       "    </tr>\n",
       "    <tr>\n",
       "      <th>1</th>\n",
       "      <td>shivam</td>\n",
       "      <td>23</td>\n",
       "      <td>pune</td>\n",
       "    </tr>\n",
       "  </tbody>\n",
       "</table>\n",
       "</div>"
      ],
      "text/plain": [
       "     name  marks    city\n",
       "0  varsha     78  satara\n",
       "1  shivam     23    pune"
      ]
     },
     "execution_count": 18,
     "metadata": {},
     "output_type": "execute_result"
    }
   ],
   "source": [
    "df.head(2)"
   ]
  },
  {
   "cell_type": "code",
   "execution_count": 19,
   "id": "f0595769-cfaa-49cb-8185-bd0d74f4959c",
   "metadata": {},
   "outputs": [
    {
     "data": {
      "text/html": [
       "<div>\n",
       "<style scoped>\n",
       "    .dataframe tbody tr th:only-of-type {\n",
       "        vertical-align: middle;\n",
       "    }\n",
       "\n",
       "    .dataframe tbody tr th {\n",
       "        vertical-align: top;\n",
       "    }\n",
       "\n",
       "    .dataframe thead th {\n",
       "        text-align: right;\n",
       "    }\n",
       "</style>\n",
       "<table border=\"1\" class=\"dataframe\">\n",
       "  <thead>\n",
       "    <tr style=\"text-align: right;\">\n",
       "      <th></th>\n",
       "      <th>name</th>\n",
       "      <th>marks</th>\n",
       "      <th>city</th>\n",
       "    </tr>\n",
       "  </thead>\n",
       "  <tbody>\n",
       "    <tr>\n",
       "      <th>1</th>\n",
       "      <td>shivam</td>\n",
       "      <td>23</td>\n",
       "      <td>pune</td>\n",
       "    </tr>\n",
       "    <tr>\n",
       "      <th>2</th>\n",
       "      <td>divya</td>\n",
       "      <td>45</td>\n",
       "      <td>satara</td>\n",
       "    </tr>\n",
       "    <tr>\n",
       "      <th>3</th>\n",
       "      <td>sanket</td>\n",
       "      <td>16</td>\n",
       "      <td>mumbai</td>\n",
       "    </tr>\n",
       "  </tbody>\n",
       "</table>\n",
       "</div>"
      ],
      "text/plain": [
       "     name  marks    city\n",
       "1  shivam     23    pune\n",
       "2   divya     45  satara\n",
       "3  sanket     16  mumbai"
      ]
     },
     "execution_count": 19,
     "metadata": {},
     "output_type": "execute_result"
    }
   ],
   "source": [
    "df.tail(3)"
   ]
  },
  {
   "cell_type": "code",
   "execution_count": 20,
   "id": "679bc645-705a-44fe-b4b6-12fb655331dc",
   "metadata": {},
   "outputs": [
    {
     "data": {
      "text/html": [
       "<div>\n",
       "<style scoped>\n",
       "    .dataframe tbody tr th:only-of-type {\n",
       "        vertical-align: middle;\n",
       "    }\n",
       "\n",
       "    .dataframe tbody tr th {\n",
       "        vertical-align: top;\n",
       "    }\n",
       "\n",
       "    .dataframe thead th {\n",
       "        text-align: right;\n",
       "    }\n",
       "</style>\n",
       "<table border=\"1\" class=\"dataframe\">\n",
       "  <thead>\n",
       "    <tr style=\"text-align: right;\">\n",
       "      <th></th>\n",
       "      <th>marks</th>\n",
       "    </tr>\n",
       "  </thead>\n",
       "  <tbody>\n",
       "    <tr>\n",
       "      <th>count</th>\n",
       "      <td>4.000000</td>\n",
       "    </tr>\n",
       "    <tr>\n",
       "      <th>mean</th>\n",
       "      <td>40.500000</td>\n",
       "    </tr>\n",
       "    <tr>\n",
       "      <th>std</th>\n",
       "      <td>27.886675</td>\n",
       "    </tr>\n",
       "    <tr>\n",
       "      <th>min</th>\n",
       "      <td>16.000000</td>\n",
       "    </tr>\n",
       "    <tr>\n",
       "      <th>25%</th>\n",
       "      <td>21.250000</td>\n",
       "    </tr>\n",
       "    <tr>\n",
       "      <th>50%</th>\n",
       "      <td>34.000000</td>\n",
       "    </tr>\n",
       "    <tr>\n",
       "      <th>75%</th>\n",
       "      <td>53.250000</td>\n",
       "    </tr>\n",
       "    <tr>\n",
       "      <th>max</th>\n",
       "      <td>78.000000</td>\n",
       "    </tr>\n",
       "  </tbody>\n",
       "</table>\n",
       "</div>"
      ],
      "text/plain": [
       "           marks\n",
       "count   4.000000\n",
       "mean   40.500000\n",
       "std    27.886675\n",
       "min    16.000000\n",
       "25%    21.250000\n",
       "50%    34.000000\n",
       "75%    53.250000\n",
       "max    78.000000"
      ]
     },
     "execution_count": 20,
     "metadata": {},
     "output_type": "execute_result"
    }
   ],
   "source": [
    "df.describe()"
   ]
  },
  {
   "cell_type": "code",
   "execution_count": null,
   "id": "ad9290c8-5b11-4ed0-8c07-00a0f10157d2",
   "metadata": {},
   "outputs": [],
   "source": []
  },
  {
   "cell_type": "code",
   "execution_count": 21,
   "id": "aa4c436a-3469-4321-9a68-494ed47cf306",
   "metadata": {},
   "outputs": [],
   "source": [
    "df1 = pd.read_csv('demo2.csv')"
   ]
  },
  {
   "cell_type": "code",
   "execution_count": 23,
   "id": "62928a57-b4f9-4513-bcf5-dbe32e7084fe",
   "metadata": {},
   "outputs": [
    {
     "data": {
      "text/html": [
       "<div>\n",
       "<style scoped>\n",
       "    .dataframe tbody tr th:only-of-type {\n",
       "        vertical-align: middle;\n",
       "    }\n",
       "\n",
       "    .dataframe tbody tr th {\n",
       "        vertical-align: top;\n",
       "    }\n",
       "\n",
       "    .dataframe thead th {\n",
       "        text-align: right;\n",
       "    }\n",
       "</style>\n",
       "<table border=\"1\" class=\"dataframe\">\n",
       "  <thead>\n",
       "    <tr style=\"text-align: right;\">\n",
       "      <th></th>\n",
       "      <th>name</th>\n",
       "      <th>marks</th>\n",
       "      <th>city</th>\n",
       "    </tr>\n",
       "  </thead>\n",
       "  <tbody>\n",
       "    <tr>\n",
       "      <th>0</th>\n",
       "      <td>varsha</td>\n",
       "      <td>78</td>\n",
       "      <td>satara</td>\n",
       "    </tr>\n",
       "    <tr>\n",
       "      <th>1</th>\n",
       "      <td>shivam</td>\n",
       "      <td>23</td>\n",
       "      <td>pune</td>\n",
       "    </tr>\n",
       "    <tr>\n",
       "      <th>2</th>\n",
       "      <td>divya</td>\n",
       "      <td>45</td>\n",
       "      <td>satara</td>\n",
       "    </tr>\n",
       "    <tr>\n",
       "      <th>3</th>\n",
       "      <td>sanket</td>\n",
       "      <td>16</td>\n",
       "      <td>mumbai</td>\n",
       "    </tr>\n",
       "  </tbody>\n",
       "</table>\n",
       "</div>"
      ],
      "text/plain": [
       "     name  marks    city\n",
       "0  varsha     78  satara\n",
       "1  shivam     23    pune\n",
       "2   divya     45  satara\n",
       "3  sanket     16  mumbai"
      ]
     },
     "execution_count": 23,
     "metadata": {},
     "output_type": "execute_result"
    }
   ],
   "source": [
    "df1"
   ]
  },
  {
   "cell_type": "code",
   "execution_count": 27,
   "id": "3885e6e8-e901-4546-919e-ede509f94954",
   "metadata": {},
   "outputs": [
    {
     "data": {
      "text/html": [
       "<div>\n",
       "<style scoped>\n",
       "    .dataframe tbody tr th:only-of-type {\n",
       "        vertical-align: middle;\n",
       "    }\n",
       "\n",
       "    .dataframe tbody tr th {\n",
       "        vertical-align: top;\n",
       "    }\n",
       "\n",
       "    .dataframe thead th {\n",
       "        text-align: right;\n",
       "    }\n",
       "</style>\n",
       "<table border=\"1\" class=\"dataframe\">\n",
       "  <thead>\n",
       "    <tr style=\"text-align: right;\">\n",
       "      <th></th>\n",
       "      <th>name</th>\n",
       "      <th>marks</th>\n",
       "      <th>city</th>\n",
       "    </tr>\n",
       "  </thead>\n",
       "  <tbody>\n",
       "    <tr>\n",
       "      <th>0</th>\n",
       "      <td>varsha</td>\n",
       "      <td>56</td>\n",
       "      <td>satara</td>\n",
       "    </tr>\n",
       "    <tr>\n",
       "      <th>1</th>\n",
       "      <td>shivam</td>\n",
       "      <td>23</td>\n",
       "      <td>pune</td>\n",
       "    </tr>\n",
       "    <tr>\n",
       "      <th>2</th>\n",
       "      <td>divya</td>\n",
       "      <td>45</td>\n",
       "      <td>satara</td>\n",
       "    </tr>\n",
       "    <tr>\n",
       "      <th>3</th>\n",
       "      <td>sanket</td>\n",
       "      <td>16</td>\n",
       "      <td>mumbai</td>\n",
       "    </tr>\n",
       "  </tbody>\n",
       "</table>\n",
       "</div>"
      ],
      "text/plain": [
       "     name  marks    city\n",
       "0  varsha     56  satara\n",
       "1  shivam     23    pune\n",
       "2   divya     45  satara\n",
       "3  sanket     16  mumbai"
      ]
     },
     "execution_count": 27,
     "metadata": {},
     "output_type": "execute_result"
    }
   ],
   "source": [
    "df1"
   ]
  },
  {
   "cell_type": "code",
   "execution_count": 28,
   "id": "d1b27fc2-9a5f-4e40-9058-035da7cce11b",
   "metadata": {},
   "outputs": [],
   "source": [
    "df1.to_csv('demo2.csv',index = False)"
   ]
  },
  {
   "cell_type": "code",
   "execution_count": 29,
   "id": "216dd247-6888-47c5-93d9-da3c3ef169b0",
   "metadata": {},
   "outputs": [],
   "source": [
    "df1.name = ['ab','vg','th','ab']"
   ]
  },
  {
   "cell_type": "code",
   "execution_count": 30,
   "id": "77461065-5563-4c59-aa0b-acdd439dd446",
   "metadata": {},
   "outputs": [
    {
     "data": {
      "text/html": [
       "<div>\n",
       "<style scoped>\n",
       "    .dataframe tbody tr th:only-of-type {\n",
       "        vertical-align: middle;\n",
       "    }\n",
       "\n",
       "    .dataframe tbody tr th {\n",
       "        vertical-align: top;\n",
       "    }\n",
       "\n",
       "    .dataframe thead th {\n",
       "        text-align: right;\n",
       "    }\n",
       "</style>\n",
       "<table border=\"1\" class=\"dataframe\">\n",
       "  <thead>\n",
       "    <tr style=\"text-align: right;\">\n",
       "      <th></th>\n",
       "      <th>name</th>\n",
       "      <th>marks</th>\n",
       "      <th>city</th>\n",
       "    </tr>\n",
       "  </thead>\n",
       "  <tbody>\n",
       "    <tr>\n",
       "      <th>0</th>\n",
       "      <td>ab</td>\n",
       "      <td>56</td>\n",
       "      <td>satara</td>\n",
       "    </tr>\n",
       "    <tr>\n",
       "      <th>1</th>\n",
       "      <td>vg</td>\n",
       "      <td>23</td>\n",
       "      <td>pune</td>\n",
       "    </tr>\n",
       "    <tr>\n",
       "      <th>2</th>\n",
       "      <td>th</td>\n",
       "      <td>45</td>\n",
       "      <td>satara</td>\n",
       "    </tr>\n",
       "    <tr>\n",
       "      <th>3</th>\n",
       "      <td>ab</td>\n",
       "      <td>16</td>\n",
       "      <td>mumbai</td>\n",
       "    </tr>\n",
       "  </tbody>\n",
       "</table>\n",
       "</div>"
      ],
      "text/plain": [
       "  name  marks    city\n",
       "0   ab     56  satara\n",
       "1   vg     23    pune\n",
       "2   th     45  satara\n",
       "3   ab     16  mumbai"
      ]
     },
     "execution_count": 30,
     "metadata": {},
     "output_type": "execute_result"
    }
   ],
   "source": [
    "df1"
   ]
  },
  {
   "cell_type": "code",
   "execution_count": null,
   "id": "b22f80e4-48e3-41b8-ac55-b9067c0ed79e",
   "metadata": {},
   "outputs": [],
   "source": [
    "ser = pd.Series(np.random.rand(34))"
   ]
  },
  {
   "cell_type": "code",
   "execution_count": null,
   "id": "37e1b5d8-4e1b-4346-a5ba-ac43a36e6007",
   "metadata": {},
   "outputs": [],
   "source": [
    "ser"
   ]
  },
  {
   "cell_type": "code",
   "execution_count": null,
   "id": "af0575cd-b263-4d10-bebb-cf6ab6c7b5ae",
   "metadata": {},
   "outputs": [],
   "source": [
    "ser(type)"
   ]
  },
  {
   "cell_type": "code",
   "execution_count": null,
   "id": "ebec3948-6906-4fa8-9a64-ebfca7969235",
   "metadata": {},
   "outputs": [],
   "source": [
    "type(ser)"
   ]
  },
  {
   "cell_type": "code",
   "execution_count": null,
   "id": "b9aea778-380b-4004-bc7d-27e302c21eb5",
   "metadata": {},
   "outputs": [],
   "source": [
    "newdf = pd.DataFrame(np.random.rand(334,5),index = np.arange(334))"
   ]
  },
  {
   "cell_type": "code",
   "execution_count": null,
   "id": "11f75f9f-e6e4-4d4b-a204-33842cdfe672",
   "metadata": {},
   "outputs": [],
   "source": [
    "newdf"
   ]
  },
  {
   "cell_type": "code",
   "execution_count": null,
   "id": "19afff15-5782-4edc-99a7-6b50ecd80b77",
   "metadata": {},
   "outputs": [],
   "source": [
    "type(newdf)"
   ]
  },
  {
   "cell_type": "code",
   "execution_count": null,
   "id": "0f0f5b11-97ee-47ef-b21a-f0f6f086c3f6",
   "metadata": {},
   "outputs": [],
   "source": [
    "newdf.describe()"
   ]
  },
  {
   "cell_type": "code",
   "execution_count": null,
   "id": "b0b68b00-6dcd-4583-8f0a-93fd704d2d63",
   "metadata": {},
   "outputs": [],
   "source": [
    "newdf.dtypes"
   ]
  },
  {
   "cell_type": "code",
   "execution_count": null,
   "id": "7fb73185-520e-4a1d-afef-2ed1f3e737f3",
   "metadata": {},
   "outputs": [],
   "source": [
    "newdf[0][0] = \"Varsha\""
   ]
  },
  {
   "cell_type": "code",
   "execution_count": null,
   "id": "5e5bedd1-f074-4c60-96ab-c5cad24a7af7",
   "metadata": {},
   "outputs": [],
   "source": [
    "newdf.dtypes"
   ]
  },
  {
   "cell_type": "code",
   "execution_count": null,
   "id": "a55f7fee-af4d-4ded-82d8-4240e5116c18",
   "metadata": {},
   "outputs": [],
   "source": [
    "newdf.head"
   ]
  },
  {
   "cell_type": "code",
   "execution_count": null,
   "id": "eb8f09fe-5756-4e1b-8872-03f8404b89c6",
   "metadata": {},
   "outputs": [],
   "source": [
    "newdf.index"
   ]
  },
  {
   "cell_type": "code",
   "execution_count": null,
   "id": "1d389e54-aae9-4375-a62c-7cdb1bcafcce",
   "metadata": {},
   "outputs": [],
   "source": [
    "newdf.columns"
   ]
  },
  {
   "cell_type": "code",
   "execution_count": null,
   "id": "2a22bf03-0ead-49ef-8a69-d033d8444474",
   "metadata": {},
   "outputs": [],
   "source": [
    "newdf.to_numpy()"
   ]
  },
  {
   "cell_type": "code",
   "execution_count": null,
   "id": "95660edd-c65e-40cd-bdd7-fad1128015f0",
   "metadata": {},
   "outputs": [],
   "source": [
    "newdf.loc[0,0] = 234"
   ]
  },
  {
   "cell_type": "code",
   "execution_count": null,
   "id": "c8b2d173-3a22-43c4-af48-bf985dbe22f0",
   "metadata": {},
   "outputs": [],
   "source": [
    "newdf"
   ]
  },
  {
   "cell_type": "code",
   "execution_count": null,
   "id": "27b3220f-3959-4cd4-82ff-6988f285e5a9",
   "metadata": {},
   "outputs": [],
   "source": [
    "newdf.head()"
   ]
  },
  {
   "cell_type": "code",
   "execution_count": null,
   "id": "c4c8b322-c2ed-449f-89eb-cbd0c37a9748",
   "metadata": {},
   "outputs": [],
   "source": [
    "newdf.columns = list(\"ABCDE\")"
   ]
  },
  {
   "cell_type": "code",
   "execution_count": null,
   "id": "792f7e38-441d-4702-8504-ad3d06baefe4",
   "metadata": {},
   "outputs": [],
   "source": [
    "newdf"
   ]
  },
  {
   "cell_type": "code",
   "execution_count": null,
   "id": "d31c0b77-88ae-4e77-82cf-cef88a5ed39a",
   "metadata": {},
   "outputs": [],
   "source": [
    "newdf.loc[0,0] = \"Varsha\""
   ]
  },
  {
   "cell_type": "code",
   "execution_count": null,
   "id": "83dd78d6-152d-484d-b42d-9705659f908b",
   "metadata": {},
   "outputs": [],
   "source": [
    "newdf"
   ]
  },
  {
   "cell_type": "code",
   "execution_count": null,
   "id": "671010c4-8948-4817-a4c0-7a28d70c5cd4",
   "metadata": {},
   "outputs": [],
   "source": [
    "newdf=newdf.drop(0,axis=1)"
   ]
  },
  {
   "cell_type": "code",
   "execution_count": null,
   "id": "3a358827-8458-4c97-8cb3-999b0f71f3ff",
   "metadata": {},
   "outputs": [],
   "source": [
    "newdf"
   ]
  },
  {
   "cell_type": "code",
   "execution_count": null,
   "id": "b5de9512-78ed-4e4e-abce-30c874700786",
   "metadata": {},
   "outputs": [],
   "source": [
    "dict = {'col1': [1, 2,3], 'col2': [2,5,6]}"
   ]
  },
  {
   "cell_type": "code",
   "execution_count": null,
   "id": "ff6db03e-1c35-4921-8de5-007a7643ca0d",
   "metadata": {},
   "outputs": [],
   "source": [
    "d = pd.DataFrame(data=dict)"
   ]
  },
  {
   "cell_type": "code",
   "execution_count": null,
   "id": "4c5b51d9-31f6-41f2-a3e1-0d5ce7e60152",
   "metadata": {},
   "outputs": [],
   "source": [
    "d.describe()  "
   ]
  },
  {
   "cell_type": "code",
   "execution_count": null,
   "id": "513258a1-d7e0-45a0-94b1-1a7dfbbbd900",
   "metadata": {},
   "outputs": [],
   "source": [
    "d = d.set_index(['col1', 'col2'])\n",
    "            "
   ]
  },
  {
   "cell_type": "code",
   "execution_count": null,
   "id": "78d9dc95-3b53-4f93-8773-77b08b54826d",
   "metadata": {},
   "outputs": [],
   "source": [
    "d"
   ]
  },
  {
   "cell_type": "code",
   "execution_count": null,
   "id": "d3a261b1-74f4-4361-af77-3727338aecae",
   "metadata": {},
   "outputs": [],
   "source": [
    "s = pd.Series([4,5,6], name='col2')"
   ]
  },
  {
   "cell_type": "code",
   "execution_count": null,
   "id": "86873abb-adc6-4cb3-8495-7761b96b0456",
   "metadata": {},
   "outputs": [],
   "source": [
    "s"
   ]
  },
  {
   "cell_type": "code",
   "execution_count": null,
   "id": "390ca5dd-e8f7-499c-ba2e-c6cbd04c606e",
   "metadata": {},
   "outputs": [],
   "source": [
    "s.min()"
   ]
  },
  {
   "cell_type": "code",
   "execution_count": null,
   "id": "f2250084-de66-45af-93ac-318e47446ff5",
   "metadata": {},
   "outputs": [],
   "source": [
    "s.max()"
   ]
  },
  {
   "cell_type": "code",
   "execution_count": null,
   "id": "eb77fd27-c385-42fb-95dd-d67a3ed2987b",
   "metadata": {},
   "outputs": [],
   "source": [
    "s.count()"
   ]
  },
  {
   "cell_type": "code",
   "execution_count": null,
   "id": "978302e3-2c20-4a17-bd7a-268a10d12e76",
   "metadata": {},
   "outputs": [],
   "source": [
    "s.mean()"
   ]
  },
  {
   "cell_type": "code",
   "execution_count": null,
   "id": "32db2d5f-1efe-478e-ab4f-ecea6e897463",
   "metadata": {},
   "outputs": [],
   "source": [
    "s.median()"
   ]
  },
  {
   "cell_type": "code",
   "execution_count": null,
   "id": "c9441f4b-155d-4b47-b663-feeed02bf1ff",
   "metadata": {},
   "outputs": [],
   "source": [
    "s.std()"
   ]
  },
  {
   "cell_type": "code",
   "execution_count": null,
   "id": "8c1caac9-5e6d-488e-9696-56d1e5b22e52",
   "metadata": {},
   "outputs": [],
   "source": [
    "d.corr()"
   ]
  },
  {
   "cell_type": "code",
   "execution_count": null,
   "id": "46e7e622-68e9-4c01-b83f-b0089a40e557",
   "metadata": {},
   "outputs": [],
   "source": [
    "d.to_csv('out.csv', index=False)  \n"
   ]
  },
  {
   "cell_type": "code",
   "execution_count": null,
   "id": "15aeffe5-7efa-4dba-80d7-2889efd62f2a",
   "metadata": {},
   "outputs": [],
   "source": [
    "pd.read_csv('out.csv') "
   ]
  },
  {
   "cell_type": "code",
   "execution_count": null,
   "id": "cd9a1265-5a13-4541-b14b-a9a34096de89",
   "metadata": {},
   "outputs": [],
   "source": []
  }
 ],
 "metadata": {
  "kernelspec": {
   "display_name": "Python 3 (ipykernel)",
   "language": "python",
   "name": "python3"
  },
  "language_info": {
   "codemirror_mode": {
    "name": "ipython",
    "version": 3
   },
   "file_extension": ".py",
   "mimetype": "text/x-python",
   "name": "python",
   "nbconvert_exporter": "python",
   "pygments_lexer": "ipython3",
   "version": "3.8.10"
  }
 },
 "nbformat": 4,
 "nbformat_minor": 5
}
